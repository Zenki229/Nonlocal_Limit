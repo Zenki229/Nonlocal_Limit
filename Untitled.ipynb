{
 "cells": [
  {
   "cell_type": "code",
   "execution_count": 2,
   "id": "843d1c06",
   "metadata": {},
   "outputs": [],
   "source": [
    "from lib import *"
   ]
  },
  {
   "cell_type": "code",
   "execution_count": 4,
   "id": "297d4f43",
   "metadata": {},
   "outputs": [],
   "source": [
    "M=5\n",
    "delta = 0.5\n",
    "\n",
    "vert=np.linspace(0,1,2*M)\n",
    "Left_vert=np.linspace(-delta,0,M)\n",
    "Right_vert=np.linspace(1,delta,M)\n",
    "X=np.linspace(-delta,1+delta,4*M+1)\n",
    "Vert=X[(X>0)&(X<1)]\n",
    "Left_Vert=X[X<=0]\n",
    "Right_Vert=X[X>=1]"
   ]
  },
  {
   "cell_type": "code",
   "execution_count": 5,
   "id": "09629d72",
   "metadata": {},
   "outputs": [
    {
     "name": "stdout",
     "output_type": "stream",
     "text": [
      "(array([ 6,  7,  8,  9, 10, 11, 12, 13, 14], dtype=int64),)\n"
     ]
    }
   ],
   "source": [
    "FreeNodeInd=np.where((X>0)&(X<1))\n",
    "print(FreeNodeInd)"
   ]
  },
  {
   "cell_type": "code",
   "execution_count": null,
   "id": "77acfe5c",
   "metadata": {},
   "outputs": [],
   "source": []
  },
  {
   "cell_type": "code",
   "execution_count": null,
   "id": "c09ea870",
   "metadata": {},
   "outputs": [],
   "source": []
  }
 ],
 "metadata": {
  "kernelspec": {
   "display_name": "Python 3 (ipykernel)",
   "language": "python",
   "name": "python3"
  },
  "language_info": {
   "codemirror_mode": {
    "name": "ipython",
    "version": 3
   },
   "file_extension": ".py",
   "mimetype": "text/x-python",
   "name": "python",
   "nbconvert_exporter": "python",
   "pygments_lexer": "ipython3",
   "version": "3.9.13"
  }
 },
 "nbformat": 4,
 "nbformat_minor": 5
}
