{
 "cells": [
  {
   "cell_type": "code",
   "execution_count": 1,
   "id": "843d1c06",
   "metadata": {},
   "outputs": [],
   "source": [
    "from lib import *\n",
    "from Nonlocal_fem_1D import *"
   ]
  },
  {
   "cell_type": "code",
   "execution_count": 8,
   "id": "c09ea870",
   "metadata": {},
   "outputs": [
    {
     "data": {
      "text/plain": [
       "0"
      ]
     },
     "execution_count": 8,
     "metadata": {},
     "output_type": "execute_result"
    }
   ],
   "source": [
    "max(0,-2)"
   ]
  }
 ],
 "metadata": {
  "kernelspec": {
   "display_name": "Python 3 (ipykernel)",
   "language": "python",
   "name": "python3"
  },
  "language_info": {
   "codemirror_mode": {
    "name": "ipython",
    "version": 3
   },
   "file_extension": ".py",
   "mimetype": "text/x-python",
   "name": "python",
   "nbconvert_exporter": "python",
   "pygments_lexer": "ipython3",
   "version": "3.9.13"
  }
 },
 "nbformat": 4,
 "nbformat_minor": 5
}
